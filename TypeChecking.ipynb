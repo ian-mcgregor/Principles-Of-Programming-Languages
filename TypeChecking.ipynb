{
 "cells": [
  {
   "cell_type": "code",
   "execution_count": null,
   "metadata": {},
   "outputs": [],
   "source": []
  },
  {
   "cell_type": "markdown",
   "metadata": {
    "deletable": false,
    "editable": false,
    "nbgrader": {
     "cell_type": "markdown",
     "checksum": "3208fe3b93767f291a8f1a93aca2ecae",
     "grade": false,
     "grade_id": "cell-7a448b048326fe96",
     "locked": true,
     "schema_version": 3,
     "solution": false,
     "task": false
    }
   },
   "source": [
    "# CSCI 3155 : Assignment 8"
   ]
  },
  {
   "cell_type": "markdown",
   "metadata": {},
   "source": [
    "__Name__:\n",
    "\n",
    "Ian McGregor"
   ]
  },
  {
   "cell_type": "code",
   "execution_count": 327,
   "metadata": {
    "deletable": false,
    "editable": false,
    "nbgrader": {
     "cell_type": "code",
     "checksum": "6bd4de977850c58348293883865f571c",
     "grade": false,
     "grade_id": "cell-a76bd805063f24b9",
     "locked": true,
     "schema_version": 3,
     "solution": false,
     "task": false
    }
   },
   "outputs": [
    {
     "data": {
      "text/plain": [
       "passed: (points: Int)Unit\n"
      ]
     },
     "execution_count": 327,
     "metadata": {},
     "output_type": "execute_result"
    }
   ],
   "source": [
    "// TEST HELPER: Do not EDIT this cell please.\n",
    "def passed(points: Int) {\n",
    "    require(points >=0)\n",
    "    if (points == 1) print(s\"\\n*** Tests Passed (1 point) ***\\n\")\n",
    "    else print(s\"\\n*** Tests Passed ($points points) ***\\n\")\n",
    "}"
   ]
  },
  {
   "cell_type": "markdown",
   "metadata": {
    "deletable": false,
    "editable": false,
    "nbgrader": {
     "cell_type": "markdown",
     "checksum": "5a135992e7fb2d981f0451e753d2931c",
     "grade": false,
     "grade_id": "cell-c0e2fe59872461d1",
     "locked": true,
     "schema_version": 3,
     "solution": false,
     "task": false
    }
   },
   "source": [
    "## Problem 1 : Type Checking (100 points)\n",
    "\n",
    "Write a function `typecheck` that typechecks a Lettuce program.\n",
    "\n",
    "$$\\texttt{typecheck} : Program \\rightarrow Type$$ \n",
    "\n",
    "This function should take as input a lettuce _Program_, and return what _Type_ it is. If it doesn't typecheck it should return a special value _TypeError_. Use the Lettuce typing notes on moodle for details on how typechecking lettuce works.\n",
    "\n",
    "The tests for this assigment are hidden, so you will need to write your own tests! Note that you are encouraged to collaborate and share your test ideas on Piazza. To get full points, your implementation needs to match the specification from the Lettuce typing notes on moodle."
   ]
  },
  {
   "cell_type": "code",
   "execution_count": 328,
   "metadata": {
    "deletable": false,
    "editable": false,
    "nbgrader": {
     "cell_type": "code",
     "checksum": "5ddc9ef62f5e3348da0b7ba96c672ba8",
     "grade": false,
     "grade_id": "cell-3f06bd7da6098c56",
     "locked": true,
     "schema_version": 3,
     "solution": false,
     "task": false
    }
   },
   "outputs": [
    {
     "data": {
      "text/plain": [
       "defined trait Type\n",
       "defined object NumType\n",
       "defined object BoolType\n",
       "defined class FunType\n",
       "defined object TypeError\n",
       "defined trait Expr\n",
       "defined class Const\n",
       "defined class Ident\n",
       "defined object True\n",
       "defined object False\n",
       "defined class Plus\n",
       "defined class Minus\n",
       "defined class Mult\n",
       "defined class Neg\n",
       "defined class And\n",
       "defined class Or\n",
       "defined class Geq\n",
       "defined class Eq\n",
       "defined class ITE\n",
       "defined class Let\n",
       "defined class FunDef\n",
       "defined class FunCall\n",
       "defined class LetRec\n",
       "defined trait Program\n",
       "defined class Main\n"
      ]
     },
     "execution_count": 328,
     "metadata": {},
     "output_type": "execute_result"
    }
   ],
   "source": [
    "sealed trait Type\n",
    "case object NumType extends Type\n",
    "case object BoolType extends Type\n",
    "case class FunType( ty_a : Type, ty_r : Type) extends Type\n",
    "case object TypeError extends Type\n",
    "\n",
    "sealed trait Expr\n",
    "case class  Const(n : Int) extends Expr\n",
    "case class  Ident(s : String) extends Expr\n",
    "case object True extends Expr\n",
    "case object False extends Expr\n",
    "case class  Plus( e1 : Expr, e2 : Expr) extends Expr\n",
    "case class  Minus( e1 : Expr, e2 : Expr) extends Expr\n",
    "case class  Mult( e1 : Expr, e2 : Expr) extends Expr\n",
    "case class  Neg( e1 : Expr) extends Expr\n",
    "case class  And( e1 : Expr, e2 : Expr) extends Expr\n",
    "case class  Or( e1 : Expr, e2 : Expr) extends Expr\n",
    "case class  Geq( e1 : Expr, e2 : Expr) extends Expr\n",
    "case class  Eq( e1 : Expr, e2 : Expr) extends Expr\n",
    "case class  ITE( ec : Expr, et : Expr, ef : Expr) extends Expr\n",
    "case class  Let( name : String, ty_d : Type, ed : Expr, ei : Expr) extends Expr\n",
    "case class  FunDef( arg : String, ty_a : Type, eb : Expr) extends Expr\n",
    "case class  FunCall( ef : Expr, ea : Expr) extends Expr\n",
    "case class  LetRec( f : String, ty_f : Type, x : String, ty_x : Type, eb : Expr, ei : Expr) extends Expr\n",
    "\n",
    "sealed trait Program\n",
    "case class Main(p : Expr) extends Program"
   ]
  },
  {
   "cell_type": "code",
   "execution_count": 329,
   "metadata": {
    "deletable": false,
    "nbgrader": {
     "cell_type": "code",
     "checksum": "cbdeb01186bcefd40ba2d4d5c773789f",
     "grade": false,
     "grade_id": "cell-f8cd57266fd56cf2",
     "locked": false,
     "schema_version": 3,
     "solution": true,
     "task": false
    }
   },
   "outputs": [
    {
     "data": {
      "text/plain": [
       "defined type alias Environment\n",
       "TC: (input: Expr, gamma: Environment)Type\n",
       "typecheck: (program: Program)Type\n"
      ]
     },
     "execution_count": 329,
     "metadata": {},
     "output_type": "execute_result"
    }
   ],
   "source": [
    "type Environment = \n",
    "    Map[String, Type]\n",
    "\n",
    "def TC (input : Expr, gamma : Environment) : Type = {\n",
    "    input match {\n",
    "        case Const(n) => n match {\n",
    "            case n : Int => NumType\n",
    "            }\n",
    "        case Ident(s) => if(gamma.contains(s)) gamma(s) else TypeError\n",
    "        case True => BoolType\n",
    "        case False => BoolType\n",
    "        case Plus(e1,e2) => (TC(e1,gamma) , TC(e2, gamma)) match {\n",
    "            case (NumType, NumType) => NumType\n",
    "            case (_,_) => TypeError\n",
    "        }\n",
    "        case Minus(e1,e2) => (TC(e1,gamma) , TC(e2, gamma)) match {\n",
    "            case (NumType, NumType) => NumType\n",
    "            case (_,_) => TypeError\n",
    "        }\n",
    "        case Mult(e1,e2) => (TC(e1,gamma) , TC(e2, gamma)) match {\n",
    "            case (NumType, NumType) => NumType\n",
    "            case (_,_) => TypeError\n",
    "        }\n",
    "        case Neg(e1) => TC(e1,gamma) match {\n",
    "            case TypeError => TypeError\n",
    "            case NumType => NumType\n",
    "            case BoolType => BoolType\n",
    "            case FunType(a,b) => FunType(a,b)\n",
    "        }\n",
    "        case And(e1,e2) => (TC(e1,gamma) , TC(e2, gamma)) match { \n",
    "            case (BoolType,BoolType) => BoolType\n",
    "            case (_,_) => TypeError\n",
    "        }\n",
    "        case Or(e1,e2) => (TC(e1,gamma) , TC(e2, gamma)) match { \n",
    "            case (BoolType,BoolType) => BoolType\n",
    "            case (_,_) => TypeError\n",
    "        }\n",
    "        case Geq(e1,e2) => (TC(e1,gamma) , TC(e2, gamma)) match {\n",
    "            case (NumType, NumType) => BoolType\n",
    "            case (_,_) => TypeError\n",
    "        }\n",
    "        case Eq(e1,e2) => (TC(e1,gamma) , TC(e2, gamma)) match {\n",
    "            case (NumType, NumType) => BoolType\n",
    "            case (BoolType, BoolType) => BoolType\n",
    "            case (_,_) => TypeError\n",
    "        }\n",
    "        case ITE(ec, et , ef) => TC(ec, gamma) match {\n",
    "            case TypeError => TypeError\n",
    "            case NumType => TypeError\n",
    "            case FunType(_,_) => TypeError\n",
    "            case BoolType => (TC(et,gamma)) match {\n",
    "                case TypeError => TypeError\n",
    "                case et => if( et == TC(ef,gamma)){\n",
    "                    et\n",
    "                }else{TypeError}\n",
    "            }\n",
    "        }\n",
    "        case Let(name, ty_d, ed, ei) => TC(ed,gamma) match {\n",
    "            case TypeError => TypeError\n",
    "            case ty_d => {\n",
    "                val nugamma = gamma + (name -> TC(ed,gamma))\n",
    "                TC(ei, nugamma)\n",
    "            }\n",
    "        }\n",
    "        case FunDef(arg, ty_a, eb) => {\n",
    "            val nugamma = gamma + (arg -> ty_a)\n",
    "            TC(eb, nugamma) match {\n",
    "                case TypeError => TypeError\n",
    "                case tr => {\n",
    "                    FunType(nugamma(arg), tr)\n",
    "                }\n",
    "            }\n",
    "        }\n",
    "        case FunCall(ef, ea) => TC(ef, gamma) match {\n",
    "            case TypeError => TypeError\n",
    "            case NumType => TypeError\n",
    "            case BoolType => TypeError\n",
    "            case FunType(ta, tr) => TC(ea, gamma) match {\n",
    "                case ta => {\n",
    "                    tr\n",
    "                }\n",
    "            }   \n",
    "        }\n",
    "        case LetRec(f_name, ty_f, arg_name, ty_arg, eb, ei) => {\n",
    "            val nugamma = gamma + (arg_name -> ty_arg) + (f_name -> ty_f)\n",
    "            TC(ei, nugamma) match {\n",
    "                case TypeError => TypeError\n",
    "                case ti => TC(eb,nugamma)\n",
    "            }\n",
    "        }\n",
    "    }\n",
    "}\n",
    "def typecheck (program : Program) : Type = {\n",
    "    val emptyenv : Environment = Map()\n",
    "    program match {\n",
    "        case Main(p) => TC(p, emptyenv)\n",
    "    }\n",
    "}"
   ]
  },
  {
   "cell_type": "code",
   "execution_count": 330,
   "metadata": {
    "deletable": false,
    "editable": false,
    "nbgrader": {
     "cell_type": "code",
     "checksum": "cc4269729414496011cfa4980d54a4e4",
     "grade": true,
     "grade_id": "cell-d9b206afd7a24388",
     "locked": true,
     "points": 20,
     "schema_version": 3,
     "solution": false,
     "task": false
    }
   },
   "outputs": [
    {
     "name": "stdout",
     "output_type": "stream",
     "text": [
      "\n",
      "*** Tests Passed (20 points) ***\n",
      "Hidden Tests : up to 80 points remaining\n"
     ]
    },
    {
     "data": {
      "text/plain": [
       "null"
      ]
     },
     "execution_count": 330,
     "metadata": {},
     "output_type": "execute_result"
    }
   ],
   "source": [
    "val p1 : Program = Main( Const(10) )\n",
    "assert( typecheck(p1) == NumType, \"test 1\")\n",
    "passed(20)\n",
    "println(\"Hidden Tests : up to 80 points remaining\")"
   ]
  },
  {
   "cell_type": "code",
   "execution_count": 331,
   "metadata": {
    "deletable": false,
    "editable": false,
    "nbgrader": {
     "cell_type": "code",
     "checksum": "16e433df6352352f1c2b909b66032262",
     "grade": true,
     "grade_id": "cell-31198cd330553090",
     "locked": true,
     "points": 2,
     "schema_version": 3,
     "solution": false,
     "task": false
    }
   },
   "outputs": [
    {
     "name": "stdout",
     "output_type": "stream",
     "text": [
      "Hidden test\n"
     ]
    }
   ],
   "source": [
    "println(\"Hidden test\")"
   ]
  },
  {
   "cell_type": "code",
   "execution_count": 332,
   "metadata": {
    "deletable": false,
    "editable": false,
    "nbgrader": {
     "cell_type": "code",
     "checksum": "e56e925bd0b16e8e70ac0bc243c3298e",
     "grade": true,
     "grade_id": "cell-69b68741c9fda826",
     "locked": true,
     "points": 2,
     "schema_version": 3,
     "solution": false,
     "task": false
    }
   },
   "outputs": [
    {
     "name": "stdout",
     "output_type": "stream",
     "text": [
      "Hidden test\n"
     ]
    }
   ],
   "source": [
    "println(\"Hidden test\")"
   ]
  },
  {
   "cell_type": "code",
   "execution_count": 333,
   "metadata": {
    "deletable": false,
    "editable": false,
    "nbgrader": {
     "cell_type": "code",
     "checksum": "6ec9854bcb228b9be18cebc49dfadbf9",
     "grade": true,
     "grade_id": "cell-d15f5cb6ed1607da",
     "locked": true,
     "points": 2,
     "schema_version": 3,
     "solution": false,
     "task": false
    }
   },
   "outputs": [
    {
     "name": "stdout",
     "output_type": "stream",
     "text": [
      "Hidden test\n"
     ]
    }
   ],
   "source": [
    "println(\"Hidden test\")"
   ]
  },
  {
   "cell_type": "code",
   "execution_count": 334,
   "metadata": {
    "deletable": false,
    "editable": false,
    "nbgrader": {
     "cell_type": "code",
     "checksum": "fbbce3650b6688f24e40194741aaf571",
     "grade": true,
     "grade_id": "cell-d8ea3308b64e150d",
     "locked": true,
     "points": 2,
     "schema_version": 3,
     "solution": false,
     "task": false
    }
   },
   "outputs": [
    {
     "name": "stdout",
     "output_type": "stream",
     "text": [
      "Hidden test\n"
     ]
    }
   ],
   "source": [
    "println(\"Hidden test\")"
   ]
  },
  {
   "cell_type": "code",
   "execution_count": 335,
   "metadata": {
    "deletable": false,
    "editable": false,
    "nbgrader": {
     "cell_type": "code",
     "checksum": "4b086b0430a44216c91e84ffa6139143",
     "grade": true,
     "grade_id": "cell-83408b1f20330fbc",
     "locked": true,
     "points": 2,
     "schema_version": 3,
     "solution": false,
     "task": false
    }
   },
   "outputs": [
    {
     "name": "stdout",
     "output_type": "stream",
     "text": [
      "Hidden test\n"
     ]
    }
   ],
   "source": [
    "println(\"Hidden test\")"
   ]
  },
  {
   "cell_type": "code",
   "execution_count": 336,
   "metadata": {
    "deletable": false,
    "editable": false,
    "nbgrader": {
     "cell_type": "code",
     "checksum": "75b7cd92d5e2ebc3d0be649d995671c6",
     "grade": true,
     "grade_id": "cell-8f34165e14575453",
     "locked": true,
     "points": 2,
     "schema_version": 3,
     "solution": false,
     "task": false
    }
   },
   "outputs": [
    {
     "name": "stdout",
     "output_type": "stream",
     "text": [
      "Hidden test\n"
     ]
    }
   ],
   "source": [
    "println(\"Hidden test\")"
   ]
  },
  {
   "cell_type": "code",
   "execution_count": 337,
   "metadata": {
    "deletable": false,
    "editable": false,
    "nbgrader": {
     "cell_type": "code",
     "checksum": "c91350d0ed9bf0198f85440917035cbb",
     "grade": true,
     "grade_id": "cell-bb4cebe2260d7612",
     "locked": true,
     "points": 2,
     "schema_version": 3,
     "solution": false,
     "task": false
    }
   },
   "outputs": [
    {
     "name": "stdout",
     "output_type": "stream",
     "text": [
      "Hidden test\n"
     ]
    }
   ],
   "source": [
    "println(\"Hidden test\")"
   ]
  },
  {
   "cell_type": "code",
   "execution_count": 338,
   "metadata": {
    "deletable": false,
    "editable": false,
    "nbgrader": {
     "cell_type": "code",
     "checksum": "a2921b85373fa0ef48a57732cd049759",
     "grade": true,
     "grade_id": "cell-c4f5dcf0bf8fdca3",
     "locked": true,
     "points": 2,
     "schema_version": 3,
     "solution": false,
     "task": false
    }
   },
   "outputs": [
    {
     "name": "stdout",
     "output_type": "stream",
     "text": [
      "Hidden test\n"
     ]
    }
   ],
   "source": [
    "println(\"Hidden test\")"
   ]
  },
  {
   "cell_type": "code",
   "execution_count": 339,
   "metadata": {
    "deletable": false,
    "editable": false,
    "nbgrader": {
     "cell_type": "code",
     "checksum": "9f02e9d45f199407e311eaa321395bea",
     "grade": true,
     "grade_id": "cell-8037f9727ae33dd4",
     "locked": true,
     "points": 2,
     "schema_version": 3,
     "solution": false,
     "task": false
    }
   },
   "outputs": [
    {
     "name": "stdout",
     "output_type": "stream",
     "text": [
      "Hidden test\n"
     ]
    }
   ],
   "source": [
    "println(\"Hidden test\")"
   ]
  },
  {
   "cell_type": "code",
   "execution_count": 340,
   "metadata": {
    "deletable": false,
    "editable": false,
    "nbgrader": {
     "cell_type": "code",
     "checksum": "7d406042da91b99c8010c55d03896138",
     "grade": true,
     "grade_id": "cell-b59243a5817202d2",
     "locked": true,
     "points": 2,
     "schema_version": 3,
     "solution": false,
     "task": false
    }
   },
   "outputs": [
    {
     "name": "stdout",
     "output_type": "stream",
     "text": [
      "Hidden test\n"
     ]
    }
   ],
   "source": [
    "println(\"Hidden test\")"
   ]
  },
  {
   "cell_type": "code",
   "execution_count": 341,
   "metadata": {
    "deletable": false,
    "editable": false,
    "nbgrader": {
     "cell_type": "code",
     "checksum": "9406879aaea4e809f0332b0d46374742",
     "grade": true,
     "grade_id": "cell-ede2ed89a8f56746",
     "locked": true,
     "points": 2,
     "schema_version": 3,
     "solution": false,
     "task": false
    }
   },
   "outputs": [
    {
     "name": "stdout",
     "output_type": "stream",
     "text": [
      "Hidden test\n"
     ]
    }
   ],
   "source": [
    "println(\"Hidden test\")"
   ]
  },
  {
   "cell_type": "code",
   "execution_count": 342,
   "metadata": {
    "deletable": false,
    "editable": false,
    "nbgrader": {
     "cell_type": "code",
     "checksum": "481c93465cd6f491d850b853e83dc58c",
     "grade": true,
     "grade_id": "cell-90690da2df5d6da5",
     "locked": true,
     "points": 2,
     "schema_version": 3,
     "solution": false,
     "task": false
    }
   },
   "outputs": [
    {
     "name": "stdout",
     "output_type": "stream",
     "text": [
      "Hidden test\n"
     ]
    }
   ],
   "source": [
    "println(\"Hidden test\")"
   ]
  },
  {
   "cell_type": "code",
   "execution_count": 343,
   "metadata": {
    "deletable": false,
    "editable": false,
    "nbgrader": {
     "cell_type": "code",
     "checksum": "e0cd8e950aac88c9fe1b3714f1c2ca69",
     "grade": true,
     "grade_id": "cell-288a52329f6c5428",
     "locked": true,
     "points": 2,
     "schema_version": 3,
     "solution": false,
     "task": false
    }
   },
   "outputs": [
    {
     "name": "stdout",
     "output_type": "stream",
     "text": [
      "Hidden test\n"
     ]
    }
   ],
   "source": [
    "println(\"Hidden test\")"
   ]
  },
  {
   "cell_type": "code",
   "execution_count": 344,
   "metadata": {
    "deletable": false,
    "editable": false,
    "nbgrader": {
     "cell_type": "code",
     "checksum": "5d83c0d74ee3dfe80640bc460dd18733",
     "grade": true,
     "grade_id": "cell-7d0654077dff6d8b",
     "locked": true,
     "points": 2,
     "schema_version": 3,
     "solution": false,
     "task": false
    }
   },
   "outputs": [
    {
     "name": "stdout",
     "output_type": "stream",
     "text": [
      "Hidden test\n"
     ]
    }
   ],
   "source": [
    "println(\"Hidden test\")"
   ]
  },
  {
   "cell_type": "code",
   "execution_count": 345,
   "metadata": {
    "deletable": false,
    "editable": false,
    "nbgrader": {
     "cell_type": "code",
     "checksum": "0514765d5b33c6a68af4ea9b5a85486a",
     "grade": true,
     "grade_id": "cell-d0489819cc1d8319",
     "locked": true,
     "points": 2,
     "schema_version": 3,
     "solution": false,
     "task": false
    }
   },
   "outputs": [
    {
     "name": "stdout",
     "output_type": "stream",
     "text": [
      "Hidden test\n"
     ]
    }
   ],
   "source": [
    "println(\"Hidden test\")"
   ]
  },
  {
   "cell_type": "code",
   "execution_count": 346,
   "metadata": {
    "deletable": false,
    "editable": false,
    "nbgrader": {
     "cell_type": "code",
     "checksum": "419123b6b902589ed0f59859c560a6bc",
     "grade": true,
     "grade_id": "cell-533d45c0493a5630",
     "locked": true,
     "points": 2,
     "schema_version": 3,
     "solution": false,
     "task": false
    }
   },
   "outputs": [
    {
     "name": "stdout",
     "output_type": "stream",
     "text": [
      "Hidden test\n"
     ]
    }
   ],
   "source": [
    "println(\"Hidden test\")"
   ]
  },
  {
   "cell_type": "code",
   "execution_count": 347,
   "metadata": {
    "deletable": false,
    "editable": false,
    "nbgrader": {
     "cell_type": "code",
     "checksum": "c267adfa29f4beb2bd2871ac9b48f306",
     "grade": true,
     "grade_id": "cell-97f81d04838e2546",
     "locked": true,
     "points": 2,
     "schema_version": 3,
     "solution": false,
     "task": false
    }
   },
   "outputs": [
    {
     "name": "stdout",
     "output_type": "stream",
     "text": [
      "Hidden test\n"
     ]
    }
   ],
   "source": [
    "println(\"Hidden test\")"
   ]
  },
  {
   "cell_type": "code",
   "execution_count": 348,
   "metadata": {
    "deletable": false,
    "editable": false,
    "nbgrader": {
     "cell_type": "code",
     "checksum": "2c76783289bac74ebe27210f51631db4",
     "grade": true,
     "grade_id": "cell-f91107fcf26e2240",
     "locked": true,
     "points": 3,
     "schema_version": 3,
     "solution": false,
     "task": false
    }
   },
   "outputs": [
    {
     "name": "stdout",
     "output_type": "stream",
     "text": [
      "Hidden test\n"
     ]
    }
   ],
   "source": [
    "println(\"Hidden test\")"
   ]
  },
  {
   "cell_type": "code",
   "execution_count": 349,
   "metadata": {
    "deletable": false,
    "editable": false,
    "nbgrader": {
     "cell_type": "code",
     "checksum": "ee3e016a9a543d69e122d8a7e9a1eb8c",
     "grade": true,
     "grade_id": "cell-3ba6c8052c148fff",
     "locked": true,
     "points": 3,
     "schema_version": 3,
     "solution": false,
     "task": false
    }
   },
   "outputs": [
    {
     "name": "stdout",
     "output_type": "stream",
     "text": [
      "Hidden test\n"
     ]
    }
   ],
   "source": [
    "println(\"Hidden test\")"
   ]
  },
  {
   "cell_type": "code",
   "execution_count": 350,
   "metadata": {
    "deletable": false,
    "editable": false,
    "nbgrader": {
     "cell_type": "code",
     "checksum": "79ce928f7743ba141c2da89d7205f3e7",
     "grade": true,
     "grade_id": "cell-36a0b90b6303d35e",
     "locked": true,
     "points": 3,
     "schema_version": 3,
     "solution": false,
     "task": false
    }
   },
   "outputs": [
    {
     "name": "stdout",
     "output_type": "stream",
     "text": [
      "Hidden test\n"
     ]
    }
   ],
   "source": [
    "println(\"Hidden test\")"
   ]
  },
  {
   "cell_type": "code",
   "execution_count": 351,
   "metadata": {
    "deletable": false,
    "editable": false,
    "nbgrader": {
     "cell_type": "code",
     "checksum": "76bd576dddf518ff087457fdb1cf7468",
     "grade": true,
     "grade_id": "cell-89108e7186bf2e7e",
     "locked": true,
     "points": 2,
     "schema_version": 3,
     "solution": false,
     "task": false
    }
   },
   "outputs": [
    {
     "name": "stdout",
     "output_type": "stream",
     "text": [
      "Hidden test\n"
     ]
    }
   ],
   "source": [
    "println(\"Hidden test\")"
   ]
  },
  {
   "cell_type": "code",
   "execution_count": 352,
   "metadata": {
    "deletable": false,
    "editable": false,
    "nbgrader": {
     "cell_type": "code",
     "checksum": "80473f9428413dbaeb328e788c142cf1",
     "grade": true,
     "grade_id": "cell-e0c1267b4358e17e",
     "locked": true,
     "points": 3,
     "schema_version": 3,
     "solution": false,
     "task": false
    }
   },
   "outputs": [
    {
     "name": "stdout",
     "output_type": "stream",
     "text": [
      "Hidden test\n"
     ]
    }
   ],
   "source": [
    "println(\"Hidden test\")"
   ]
  },
  {
   "cell_type": "code",
   "execution_count": 353,
   "metadata": {
    "deletable": false,
    "editable": false,
    "nbgrader": {
     "cell_type": "code",
     "checksum": "ee0fc239fbaacd0fa9df12ab7b355aa2",
     "grade": true,
     "grade_id": "cell-7755f725e7af3e5c",
     "locked": true,
     "points": 3,
     "schema_version": 3,
     "solution": false,
     "task": false
    }
   },
   "outputs": [
    {
     "name": "stdout",
     "output_type": "stream",
     "text": [
      "Hidden test\n"
     ]
    }
   ],
   "source": [
    "println(\"Hidden test\")"
   ]
  },
  {
   "cell_type": "code",
   "execution_count": 354,
   "metadata": {
    "deletable": false,
    "editable": false,
    "nbgrader": {
     "cell_type": "code",
     "checksum": "2e8459bddafbbf73ccd4190f20def3d9",
     "grade": true,
     "grade_id": "cell-a16534250c0ac8f9",
     "locked": true,
     "points": 3,
     "schema_version": 3,
     "solution": false,
     "task": false
    }
   },
   "outputs": [
    {
     "name": "stdout",
     "output_type": "stream",
     "text": [
      "Hidden test\n"
     ]
    }
   ],
   "source": [
    "println(\"Hidden test\")"
   ]
  },
  {
   "cell_type": "code",
   "execution_count": 355,
   "metadata": {
    "deletable": false,
    "editable": false,
    "nbgrader": {
     "cell_type": "code",
     "checksum": "dea5ed43d77182d71d9c0738217e83cd",
     "grade": true,
     "grade_id": "cell-6089a04546621af9",
     "locked": true,
     "points": 3,
     "schema_version": 3,
     "solution": false,
     "task": false
    }
   },
   "outputs": [
    {
     "name": "stdout",
     "output_type": "stream",
     "text": [
      "Hidden test\n"
     ]
    }
   ],
   "source": [
    "println(\"Hidden test\")"
   ]
  },
  {
   "cell_type": "code",
   "execution_count": 356,
   "metadata": {
    "deletable": false,
    "editable": false,
    "nbgrader": {
     "cell_type": "code",
     "checksum": "eafd2e1e6ee5d0baf553914f3f36560b",
     "grade": true,
     "grade_id": "cell-ea1c6a51893fd4d1",
     "locked": true,
     "points": 3,
     "schema_version": 3,
     "solution": false,
     "task": false
    }
   },
   "outputs": [
    {
     "name": "stdout",
     "output_type": "stream",
     "text": [
      "Hidden test\n"
     ]
    }
   ],
   "source": [
    "println(\"Hidden test\")"
   ]
  },
  {
   "cell_type": "code",
   "execution_count": 357,
   "metadata": {
    "deletable": false,
    "editable": false,
    "nbgrader": {
     "cell_type": "code",
     "checksum": "c9f1c00e09b93c80dd8ae901fdac6010",
     "grade": true,
     "grade_id": "cell-b3233ea6f1403203",
     "locked": true,
     "points": 3,
     "schema_version": 3,
     "solution": false,
     "task": false
    }
   },
   "outputs": [
    {
     "name": "stdout",
     "output_type": "stream",
     "text": [
      "Hidden test\n"
     ]
    }
   ],
   "source": [
    "println(\"Hidden test\")"
   ]
  },
  {
   "cell_type": "code",
   "execution_count": 358,
   "metadata": {
    "deletable": false,
    "editable": false,
    "nbgrader": {
     "cell_type": "code",
     "checksum": "3865dee4afe775f5249fb80b3855784a",
     "grade": true,
     "grade_id": "cell-0934c6879471b3a3",
     "locked": true,
     "points": 2,
     "schema_version": 3,
     "solution": false,
     "task": false
    }
   },
   "outputs": [
    {
     "name": "stdout",
     "output_type": "stream",
     "text": [
      "Hidden test\n"
     ]
    }
   ],
   "source": [
    "println(\"Hidden test\")"
   ]
  },
  {
   "cell_type": "code",
   "execution_count": 359,
   "metadata": {
    "deletable": false,
    "editable": false,
    "nbgrader": {
     "cell_type": "code",
     "checksum": "0f73d0c920566688c834b20249fcf3c7",
     "grade": true,
     "grade_id": "cell-750499f6519c9cb8",
     "locked": true,
     "points": 3,
     "schema_version": 3,
     "solution": false,
     "task": false
    }
   },
   "outputs": [
    {
     "name": "stdout",
     "output_type": "stream",
     "text": [
      "Hidden test\n"
     ]
    }
   ],
   "source": [
    "println(\"Hidden test\")"
   ]
  },
  {
   "cell_type": "code",
   "execution_count": 360,
   "metadata": {
    "deletable": false,
    "editable": false,
    "nbgrader": {
     "cell_type": "code",
     "checksum": "0b11f1955733462babd574dcdf72b697",
     "grade": true,
     "grade_id": "cell-b9646dcc63b28149",
     "locked": true,
     "points": 3,
     "schema_version": 3,
     "solution": false,
     "task": false
    }
   },
   "outputs": [
    {
     "name": "stdout",
     "output_type": "stream",
     "text": [
      "Hidden test\n"
     ]
    }
   ],
   "source": [
    "println(\"Hidden test\")"
   ]
  },
  {
   "cell_type": "code",
   "execution_count": 361,
   "metadata": {
    "deletable": false,
    "editable": false,
    "nbgrader": {
     "cell_type": "code",
     "checksum": "24cd878019d5e4d5e7062ad5a821b043",
     "grade": true,
     "grade_id": "cell-3f118b29e49adbec",
     "locked": true,
     "points": 3,
     "schema_version": 3,
     "solution": false,
     "task": false
    }
   },
   "outputs": [
    {
     "name": "stdout",
     "output_type": "stream",
     "text": [
      "Hidden test\n"
     ]
    }
   ],
   "source": [
    "println(\"Hidden test\")"
   ]
  },
  {
   "cell_type": "code",
   "execution_count": 362,
   "metadata": {
    "deletable": false,
    "editable": false,
    "nbgrader": {
     "cell_type": "code",
     "checksum": "15e5a7b77c045bf1216566f70b9fd60e",
     "grade": true,
     "grade_id": "cell-150fee1089cc254b",
     "locked": true,
     "points": 3,
     "schema_version": 3,
     "solution": false,
     "task": false
    }
   },
   "outputs": [
    {
     "name": "stdout",
     "output_type": "stream",
     "text": [
      "Hidden test\n"
     ]
    }
   ],
   "source": [
    "println(\"Hidden test\")"
   ]
  },
  {
   "cell_type": "code",
   "execution_count": 363,
   "metadata": {
    "deletable": false,
    "editable": false,
    "nbgrader": {
     "cell_type": "code",
     "checksum": "22cc895ab590f577f699f4426854d07e",
     "grade": true,
     "grade_id": "cell-f7fad77d24bd342e",
     "locked": true,
     "points": 3,
     "schema_version": 3,
     "solution": false,
     "task": false
    }
   },
   "outputs": [
    {
     "name": "stdout",
     "output_type": "stream",
     "text": [
      "Hidden test\n"
     ]
    }
   ],
   "source": [
    "println(\"Hidden test\")"
   ]
  }
 ],
 "metadata": {
  "kernelspec": {
   "display_name": "Scala",
   "language": "scala",
   "name": "scala"
  },
  "language_info": {
   "codemirror_mode": "text/x-scala",
   "file_extension": ".scala",
   "mimetype": "",
   "name": "Scala",
   "nbconverter_exporter": "",
   "version": "2.11.12"
  }
 },
 "nbformat": 4,
 "nbformat_minor": 4
}
